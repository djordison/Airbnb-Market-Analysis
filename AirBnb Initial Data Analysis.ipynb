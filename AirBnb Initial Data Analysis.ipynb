{
 "cells": [
  {
   "cell_type": "markdown",
   "metadata": {},
   "source": [
    "# Airbnb - Business Understanding/Data Understanding (Vancouver)\n",
    "\n",
    "Initial exploratory analysis of the dataset in order to generate some understanding. Raw data is read in and examined using basis statistics and visualizations. Some basic processing will be done to allow this."
   ]
  },
  {
   "cell_type": "markdown",
   "metadata": {},
   "source": [
    "## Imports"
   ]
  },
  {
   "cell_type": "code",
   "execution_count": 4,
   "metadata": {},
   "outputs": [],
   "source": [
    "import pandas as pd\n",
    "import numpy as np"
   ]
  },
  {
   "cell_type": "markdown",
   "metadata": {},
   "source": [
    "## Functions"
   ]
  },
  {
   "cell_type": "code",
   "execution_count": 5,
   "metadata": {},
   "outputs": [],
   "source": [
    "#No functions used in this initial analysis"
   ]
  },
  {
   "cell_type": "markdown",
   "metadata": {},
   "source": [
    "# Basic Setup\n",
    "\n",
    "Read data, create global variables"
   ]
  },
  {
   "cell_type": "code",
   "execution_count": 32,
   "metadata": {},
   "outputs": [],
   "source": [
    "#Read in .csv files\n",
    "Vancouver_Cal = pd.read_csv('Data/calendar.csv.gz')\n",
    "Vancouver_List = pd.read_csv('Data/listings.csv.gz')\n",
    "Vancouver_Rev = pd.read_csv('Data/reviews.csv.gz')"
   ]
  },
  {
   "cell_type": "markdown",
   "metadata": {},
   "source": [
    "## Business Understanding\n",
    "\n",
    "Airbnb is a business which allows users to rent out properties to other one on one. Revenue is generated for AirBnb through users hosting and booking on their platform.\n",
    "\n",
    "Initial questions are as follows:\n",
    "\n",
    " - Does the price vary seasonably?\n",
    " - Which Airbnb listing features have the largest impact on price?\n",
    " - Is it possible to predict prices base on features and season?\n",
    " \n",
    "## Data Understanding\n",
    "\n",
    "Ensure that data is of quality and quantity to answer the above questions\n",
    "\n",
    "### Vancouver\n",
    "\n",
    "__Calendar.csv Exploratory Analysis__"
   ]
  },
  {
   "cell_type": "code",
   "execution_count": 8,
   "metadata": {},
   "outputs": [
    {
     "data": {
      "text/html": [
       "<div>\n",
       "<style scoped>\n",
       "    .dataframe tbody tr th:only-of-type {\n",
       "        vertical-align: middle;\n",
       "    }\n",
       "\n",
       "    .dataframe tbody tr th {\n",
       "        vertical-align: top;\n",
       "    }\n",
       "\n",
       "    .dataframe thead th {\n",
       "        text-align: right;\n",
       "    }\n",
       "</style>\n",
       "<table border=\"1\" class=\"dataframe\">\n",
       "  <thead>\n",
       "    <tr style=\"text-align: right;\">\n",
       "      <th></th>\n",
       "      <th>listing_id</th>\n",
       "      <th>date</th>\n",
       "      <th>available</th>\n",
       "      <th>price</th>\n",
       "      <th>adjusted_price</th>\n",
       "      <th>minimum_nights</th>\n",
       "      <th>maximum_nights</th>\n",
       "    </tr>\n",
       "  </thead>\n",
       "  <tbody>\n",
       "    <tr>\n",
       "      <td>0</td>\n",
       "      <td>257163</td>\n",
       "      <td>2019-09-17</td>\n",
       "      <td>f</td>\n",
       "      <td>$65.00</td>\n",
       "      <td>$65.00</td>\n",
       "      <td>3</td>\n",
       "      <td>14</td>\n",
       "    </tr>\n",
       "    <tr>\n",
       "      <td>1</td>\n",
       "      <td>257163</td>\n",
       "      <td>2019-09-18</td>\n",
       "      <td>f</td>\n",
       "      <td>$65.00</td>\n",
       "      <td>$65.00</td>\n",
       "      <td>3</td>\n",
       "      <td>14</td>\n",
       "    </tr>\n",
       "    <tr>\n",
       "      <td>2</td>\n",
       "      <td>5731</td>\n",
       "      <td>2019-09-17</td>\n",
       "      <td>f</td>\n",
       "      <td>$40.00</td>\n",
       "      <td>$40.00</td>\n",
       "      <td>2</td>\n",
       "      <td>30</td>\n",
       "    </tr>\n",
       "    <tr>\n",
       "      <td>3</td>\n",
       "      <td>5731</td>\n",
       "      <td>2019-09-18</td>\n",
       "      <td>f</td>\n",
       "      <td>$40.00</td>\n",
       "      <td>$40.00</td>\n",
       "      <td>2</td>\n",
       "      <td>30</td>\n",
       "    </tr>\n",
       "    <tr>\n",
       "      <td>4</td>\n",
       "      <td>5731</td>\n",
       "      <td>2019-09-19</td>\n",
       "      <td>f</td>\n",
       "      <td>$40.00</td>\n",
       "      <td>$40.00</td>\n",
       "      <td>2</td>\n",
       "      <td>30</td>\n",
       "    </tr>\n",
       "  </tbody>\n",
       "</table>\n",
       "</div>"
      ],
      "text/plain": [
       "   listing_id        date available   price adjusted_price  minimum_nights  \\\n",
       "0      257163  2019-09-17         f  $65.00         $65.00               3   \n",
       "1      257163  2019-09-18         f  $65.00         $65.00               3   \n",
       "2        5731  2019-09-17         f  $40.00         $40.00               2   \n",
       "3        5731  2019-09-18         f  $40.00         $40.00               2   \n",
       "4        5731  2019-09-19         f  $40.00         $40.00               2   \n",
       "\n",
       "   maximum_nights  \n",
       "0              14  \n",
       "1              14  \n",
       "2              30  \n",
       "3              30  \n",
       "4              30  "
      ]
     },
     "execution_count": 8,
     "metadata": {},
     "output_type": "execute_result"
    }
   ],
   "source": [
    "#First 5 rows\n",
    "Vancouver_Cal.head()"
   ]
  },
  {
   "cell_type": "code",
   "execution_count": 11,
   "metadata": {},
   "outputs": [
    {
     "data": {
      "text/plain": [
       "listing_id        0.0\n",
       "date              0.0\n",
       "available         0.0\n",
       "price             0.0\n",
       "adjusted_price    0.0\n",
       "minimum_nights    0.0\n",
       "maximum_nights    0.0\n",
       "dtype: float64"
      ]
     },
     "execution_count": 11,
     "metadata": {},
     "output_type": "execute_result"
    }
   ],
   "source": [
    "#Proportion of NaN's\n",
    "pd.isnull(Vancouver_Cal).sum()/len(Vancouver_Cal)*100"
   ]
  },
  {
   "cell_type": "code",
   "execution_count": 12,
   "metadata": {},
   "outputs": [
    {
     "data": {
      "text/plain": [
       "6176"
      ]
     },
     "execution_count": 12,
     "metadata": {},
     "output_type": "execute_result"
    }
   ],
   "source": [
    "#Count # of ID's\n",
    "len(Vancouver_Cal.listing_id.unique())"
   ]
  },
  {
   "cell_type": "code",
   "execution_count": 15,
   "metadata": {},
   "outputs": [
    {
     "name": "stdout",
     "output_type": "stream",
     "text": [
      "2019-09-17 00:00:00\n",
      "2020-09-15 00:00:00\n"
     ]
    }
   ],
   "source": [
    "#Data range\n",
    "print(pd.to_datetime(Vancouver_Cal.date.min()))\n",
    "print(pd.to_datetime(Vancouver_Cal.date.max()))"
   ]
  },
  {
   "cell_type": "code",
   "execution_count": 16,
   "metadata": {},
   "outputs": [
    {
     "data": {
      "text/plain": [
       "365"
      ]
     },
     "execution_count": 16,
     "metadata": {},
     "output_type": "execute_result"
    }
   ],
   "source": [
    "#Number of days\n",
    "len(Vancouver_Cal.date.unique())"
   ]
  },
  {
   "cell_type": "code",
   "execution_count": 20,
   "metadata": {},
   "outputs": [
    {
     "data": {
      "text/plain": [
       "True    6176\n",
       "Name: date, dtype: int64"
      ]
     },
     "execution_count": 20,
     "metadata": {},
     "output_type": "execute_result"
    }
   ],
   "source": [
    "#Check if all days are counted for all listings\n",
    "(Vancouver_Cal.groupby(['listing_id']).count() == 365)['date'].value_counts()"
   ]
  },
  {
   "cell_type": "markdown",
   "metadata": {},
   "source": [
    "__Listings.csv Exploratory Analysis__"
   ]
  },
  {
   "cell_type": "code",
   "execution_count": 21,
   "metadata": {},
   "outputs": [
    {
     "data": {
      "text/html": [
       "<div>\n",
       "<style scoped>\n",
       "    .dataframe tbody tr th:only-of-type {\n",
       "        vertical-align: middle;\n",
       "    }\n",
       "\n",
       "    .dataframe tbody tr th {\n",
       "        vertical-align: top;\n",
       "    }\n",
       "\n",
       "    .dataframe thead th {\n",
       "        text-align: right;\n",
       "    }\n",
       "</style>\n",
       "<table border=\"1\" class=\"dataframe\">\n",
       "  <thead>\n",
       "    <tr style=\"text-align: right;\">\n",
       "      <th></th>\n",
       "      <th>id</th>\n",
       "      <th>listing_url</th>\n",
       "      <th>scrape_id</th>\n",
       "      <th>last_scraped</th>\n",
       "      <th>name</th>\n",
       "      <th>summary</th>\n",
       "      <th>space</th>\n",
       "      <th>description</th>\n",
       "      <th>experiences_offered</th>\n",
       "      <th>neighborhood_overview</th>\n",
       "      <th>...</th>\n",
       "      <th>instant_bookable</th>\n",
       "      <th>is_business_travel_ready</th>\n",
       "      <th>cancellation_policy</th>\n",
       "      <th>require_guest_profile_picture</th>\n",
       "      <th>require_guest_phone_verification</th>\n",
       "      <th>calculated_host_listings_count</th>\n",
       "      <th>calculated_host_listings_count_entire_homes</th>\n",
       "      <th>calculated_host_listings_count_private_rooms</th>\n",
       "      <th>calculated_host_listings_count_shared_rooms</th>\n",
       "      <th>reviews_per_month</th>\n",
       "    </tr>\n",
       "  </thead>\n",
       "  <tbody>\n",
       "    <tr>\n",
       "      <td>0</td>\n",
       "      <td>5731</td>\n",
       "      <td>https://www.airbnb.com/rooms/5731</td>\n",
       "      <td>20190917034805</td>\n",
       "      <td>2019-09-17</td>\n",
       "      <td>Mai Lodging - Room Single bed 5</td>\n",
       "      <td>The rental area has been remodeled as of April...</td>\n",
       "      <td>Located right next to a beautiful open park, K...</td>\n",
       "      <td>The rental area has been remodeled as of April...</td>\n",
       "      <td>none</td>\n",
       "      <td>NaN</td>\n",
       "      <td>...</td>\n",
       "      <td>t</td>\n",
       "      <td>f</td>\n",
       "      <td>strict_14_with_grace_period</td>\n",
       "      <td>f</td>\n",
       "      <td>f</td>\n",
       "      <td>6</td>\n",
       "      <td>2</td>\n",
       "      <td>4</td>\n",
       "      <td>0</td>\n",
       "      <td>0.81</td>\n",
       "    </tr>\n",
       "    <tr>\n",
       "      <td>1</td>\n",
       "      <td>10080</td>\n",
       "      <td>https://www.airbnb.com/rooms/10080</td>\n",
       "      <td>20190917034805</td>\n",
       "      <td>2019-09-17</td>\n",
       "      <td>D1 -  Million Dollar View 2 BR</td>\n",
       "      <td>Stunning two bedroom, two bathroom apartment. ...</td>\n",
       "      <td>Bed setup: 2 x queen, option to add up to 2 tw...</td>\n",
       "      <td>Stunning two bedroom, two bathroom apartment. ...</td>\n",
       "      <td>none</td>\n",
       "      <td>NaN</td>\n",
       "      <td>...</td>\n",
       "      <td>f</td>\n",
       "      <td>f</td>\n",
       "      <td>strict_14_with_grace_period</td>\n",
       "      <td>f</td>\n",
       "      <td>f</td>\n",
       "      <td>38</td>\n",
       "      <td>38</td>\n",
       "      <td>0</td>\n",
       "      <td>0</td>\n",
       "      <td>0.17</td>\n",
       "    </tr>\n",
       "    <tr>\n",
       "      <td>2</td>\n",
       "      <td>13188</td>\n",
       "      <td>https://www.airbnb.com/rooms/13188</td>\n",
       "      <td>20190917034805</td>\n",
       "      <td>2019-09-17</td>\n",
       "      <td>Garden level studio in ideal loc.</td>\n",
       "      <td>Garden level studio suite with garden patio - ...</td>\n",
       "      <td>Very Close (3min walk) to Nat Bailey baseball ...</td>\n",
       "      <td>Garden level studio suite with garden patio - ...</td>\n",
       "      <td>none</td>\n",
       "      <td>The uber hip Main street area is a short walk ...</td>\n",
       "      <td>...</td>\n",
       "      <td>t</td>\n",
       "      <td>f</td>\n",
       "      <td>moderate</td>\n",
       "      <td>f</td>\n",
       "      <td>f</td>\n",
       "      <td>2</td>\n",
       "      <td>2</td>\n",
       "      <td>0</td>\n",
       "      <td>0</td>\n",
       "      <td>1.87</td>\n",
       "    </tr>\n",
       "    <tr>\n",
       "      <td>3</td>\n",
       "      <td>13357</td>\n",
       "      <td>https://www.airbnb.com/rooms/13357</td>\n",
       "      <td>20190917034805</td>\n",
       "      <td>2019-09-17</td>\n",
       "      <td>! Wow! 2bed 2bath 1bed den Harbour View Apartm...</td>\n",
       "      <td>Very spacious and comfortable with very well k...</td>\n",
       "      <td>Mountains and harbour view 2 bedroom,2 bath,1 ...</td>\n",
       "      <td>Very spacious and comfortable with very well k...</td>\n",
       "      <td>none</td>\n",
       "      <td>Amanzing bibrant professional neighbourhood. C...</td>\n",
       "      <td>...</td>\n",
       "      <td>f</td>\n",
       "      <td>f</td>\n",
       "      <td>strict_14_with_grace_period</td>\n",
       "      <td>t</td>\n",
       "      <td>t</td>\n",
       "      <td>3</td>\n",
       "      <td>1</td>\n",
       "      <td>2</td>\n",
       "      <td>0</td>\n",
       "      <td>0.49</td>\n",
       "    </tr>\n",
       "    <tr>\n",
       "      <td>4</td>\n",
       "      <td>13490</td>\n",
       "      <td>https://www.airbnb.com/rooms/13490</td>\n",
       "      <td>20190917034805</td>\n",
       "      <td>2019-09-17</td>\n",
       "      <td>Vancouver's best kept secret</td>\n",
       "      <td>This apartment rents for one month blocks of t...</td>\n",
       "      <td>Vancouver city central, 700 sq.ft., main floor...</td>\n",
       "      <td>This apartment rents for one month blocks of t...</td>\n",
       "      <td>none</td>\n",
       "      <td>In the heart of Vancouver, this apartment has ...</td>\n",
       "      <td>...</td>\n",
       "      <td>f</td>\n",
       "      <td>f</td>\n",
       "      <td>strict_14_with_grace_period</td>\n",
       "      <td>f</td>\n",
       "      <td>f</td>\n",
       "      <td>1</td>\n",
       "      <td>1</td>\n",
       "      <td>0</td>\n",
       "      <td>0</td>\n",
       "      <td>0.82</td>\n",
       "    </tr>\n",
       "  </tbody>\n",
       "</table>\n",
       "<p>5 rows × 106 columns</p>\n",
       "</div>"
      ],
      "text/plain": [
       "      id                         listing_url       scrape_id last_scraped  \\\n",
       "0   5731   https://www.airbnb.com/rooms/5731  20190917034805   2019-09-17   \n",
       "1  10080  https://www.airbnb.com/rooms/10080  20190917034805   2019-09-17   \n",
       "2  13188  https://www.airbnb.com/rooms/13188  20190917034805   2019-09-17   \n",
       "3  13357  https://www.airbnb.com/rooms/13357  20190917034805   2019-09-17   \n",
       "4  13490  https://www.airbnb.com/rooms/13490  20190917034805   2019-09-17   \n",
       "\n",
       "                                                name  \\\n",
       "0                    Mai Lodging - Room Single bed 5   \n",
       "1                     D1 -  Million Dollar View 2 BR   \n",
       "2                  Garden level studio in ideal loc.   \n",
       "3  ! Wow! 2bed 2bath 1bed den Harbour View Apartm...   \n",
       "4                       Vancouver's best kept secret   \n",
       "\n",
       "                                             summary  \\\n",
       "0  The rental area has been remodeled as of April...   \n",
       "1  Stunning two bedroom, two bathroom apartment. ...   \n",
       "2  Garden level studio suite with garden patio - ...   \n",
       "3  Very spacious and comfortable with very well k...   \n",
       "4  This apartment rents for one month blocks of t...   \n",
       "\n",
       "                                               space  \\\n",
       "0  Located right next to a beautiful open park, K...   \n",
       "1  Bed setup: 2 x queen, option to add up to 2 tw...   \n",
       "2  Very Close (3min walk) to Nat Bailey baseball ...   \n",
       "3  Mountains and harbour view 2 bedroom,2 bath,1 ...   \n",
       "4  Vancouver city central, 700 sq.ft., main floor...   \n",
       "\n",
       "                                         description experiences_offered  \\\n",
       "0  The rental area has been remodeled as of April...                none   \n",
       "1  Stunning two bedroom, two bathroom apartment. ...                none   \n",
       "2  Garden level studio suite with garden patio - ...                none   \n",
       "3  Very spacious and comfortable with very well k...                none   \n",
       "4  This apartment rents for one month blocks of t...                none   \n",
       "\n",
       "                               neighborhood_overview  ... instant_bookable  \\\n",
       "0                                                NaN  ...                t   \n",
       "1                                                NaN  ...                f   \n",
       "2  The uber hip Main street area is a short walk ...  ...                t   \n",
       "3  Amanzing bibrant professional neighbourhood. C...  ...                f   \n",
       "4  In the heart of Vancouver, this apartment has ...  ...                f   \n",
       "\n",
       "  is_business_travel_ready          cancellation_policy  \\\n",
       "0                        f  strict_14_with_grace_period   \n",
       "1                        f  strict_14_with_grace_period   \n",
       "2                        f                     moderate   \n",
       "3                        f  strict_14_with_grace_period   \n",
       "4                        f  strict_14_with_grace_period   \n",
       "\n",
       "  require_guest_profile_picture require_guest_phone_verification  \\\n",
       "0                             f                                f   \n",
       "1                             f                                f   \n",
       "2                             f                                f   \n",
       "3                             t                                t   \n",
       "4                             f                                f   \n",
       "\n",
       "   calculated_host_listings_count  \\\n",
       "0                               6   \n",
       "1                              38   \n",
       "2                               2   \n",
       "3                               3   \n",
       "4                               1   \n",
       "\n",
       "   calculated_host_listings_count_entire_homes  \\\n",
       "0                                            2   \n",
       "1                                           38   \n",
       "2                                            2   \n",
       "3                                            1   \n",
       "4                                            1   \n",
       "\n",
       "  calculated_host_listings_count_private_rooms  \\\n",
       "0                                            4   \n",
       "1                                            0   \n",
       "2                                            0   \n",
       "3                                            2   \n",
       "4                                            0   \n",
       "\n",
       "   calculated_host_listings_count_shared_rooms  reviews_per_month  \n",
       "0                                            0               0.81  \n",
       "1                                            0               0.17  \n",
       "2                                            0               1.87  \n",
       "3                                            0               0.49  \n",
       "4                                            0               0.82  \n",
       "\n",
       "[5 rows x 106 columns]"
      ]
     },
     "execution_count": 21,
     "metadata": {},
     "output_type": "execute_result"
    }
   ],
   "source": [
    "Vancouver_List.head()"
   ]
  },
  {
   "cell_type": "code",
   "execution_count": 26,
   "metadata": {},
   "outputs": [
    {
     "data": {
      "text/plain": [
       "['id',\n",
       " 'listing_url',\n",
       " 'scrape_id',\n",
       " 'last_scraped',\n",
       " 'name',\n",
       " 'summary',\n",
       " 'space',\n",
       " 'description',\n",
       " 'experiences_offered',\n",
       " 'neighborhood_overview',\n",
       " 'notes',\n",
       " 'transit',\n",
       " 'access',\n",
       " 'interaction',\n",
       " 'house_rules',\n",
       " 'thumbnail_url',\n",
       " 'medium_url',\n",
       " 'picture_url',\n",
       " 'xl_picture_url',\n",
       " 'host_id',\n",
       " 'host_url',\n",
       " 'host_name',\n",
       " 'host_since',\n",
       " 'host_location',\n",
       " 'host_about',\n",
       " 'host_response_time',\n",
       " 'host_response_rate',\n",
       " 'host_acceptance_rate',\n",
       " 'host_is_superhost',\n",
       " 'host_thumbnail_url',\n",
       " 'host_picture_url',\n",
       " 'host_neighbourhood',\n",
       " 'host_listings_count',\n",
       " 'host_total_listings_count',\n",
       " 'host_verifications',\n",
       " 'host_has_profile_pic',\n",
       " 'host_identity_verified',\n",
       " 'street',\n",
       " 'neighbourhood',\n",
       " 'neighbourhood_cleansed',\n",
       " 'neighbourhood_group_cleansed',\n",
       " 'city',\n",
       " 'state',\n",
       " 'zipcode',\n",
       " 'market',\n",
       " 'smart_location',\n",
       " 'country_code',\n",
       " 'country',\n",
       " 'latitude',\n",
       " 'longitude',\n",
       " 'is_location_exact',\n",
       " 'property_type',\n",
       " 'room_type',\n",
       " 'accommodates',\n",
       " 'bathrooms',\n",
       " 'bedrooms',\n",
       " 'beds',\n",
       " 'bed_type',\n",
       " 'amenities',\n",
       " 'square_feet',\n",
       " 'price',\n",
       " 'weekly_price',\n",
       " 'monthly_price',\n",
       " 'security_deposit',\n",
       " 'cleaning_fee',\n",
       " 'guests_included',\n",
       " 'extra_people',\n",
       " 'minimum_nights',\n",
       " 'maximum_nights',\n",
       " 'minimum_minimum_nights',\n",
       " 'maximum_minimum_nights',\n",
       " 'minimum_maximum_nights',\n",
       " 'maximum_maximum_nights',\n",
       " 'minimum_nights_avg_ntm',\n",
       " 'maximum_nights_avg_ntm',\n",
       " 'calendar_updated',\n",
       " 'has_availability',\n",
       " 'availability_30',\n",
       " 'availability_60',\n",
       " 'availability_90',\n",
       " 'availability_365',\n",
       " 'calendar_last_scraped',\n",
       " 'number_of_reviews',\n",
       " 'number_of_reviews_ltm',\n",
       " 'first_review',\n",
       " 'last_review',\n",
       " 'review_scores_rating',\n",
       " 'review_scores_accuracy',\n",
       " 'review_scores_cleanliness',\n",
       " 'review_scores_checkin',\n",
       " 'review_scores_communication',\n",
       " 'review_scores_location',\n",
       " 'review_scores_value',\n",
       " 'requires_license',\n",
       " 'license',\n",
       " 'jurisdiction_names',\n",
       " 'instant_bookable',\n",
       " 'is_business_travel_ready',\n",
       " 'cancellation_policy',\n",
       " 'require_guest_profile_picture',\n",
       " 'require_guest_phone_verification',\n",
       " 'calculated_host_listings_count',\n",
       " 'calculated_host_listings_count_entire_homes',\n",
       " 'calculated_host_listings_count_private_rooms',\n",
       " 'calculated_host_listings_count_shared_rooms',\n",
       " 'reviews_per_month']"
      ]
     },
     "execution_count": 26,
     "metadata": {},
     "output_type": "execute_result"
    }
   ],
   "source": [
    "#All features\n",
    "Vancouver_List.columns.to_list()"
   ]
  },
  {
   "cell_type": "code",
   "execution_count": 27,
   "metadata": {},
   "outputs": [
    {
     "data": {
      "text/plain": [
       "6176"
      ]
     },
     "execution_count": 27,
     "metadata": {},
     "output_type": "execute_result"
    }
   ],
   "source": [
    "#See if number of ID's is identical to calendar.csv\n",
    "len(Vancouver_List.id.unique())"
   ]
  },
  {
   "cell_type": "code",
   "execution_count": 29,
   "metadata": {},
   "outputs": [
    {
     "data": {
      "text/plain": [
       "(6176, 106)"
      ]
     },
     "execution_count": 29,
     "metadata": {},
     "output_type": "execute_result"
    }
   ],
   "source": [
    "#Is each ID listed only once?\n",
    "Vancouver_List.shape"
   ]
  },
  {
   "cell_type": "code",
   "execution_count": 30,
   "metadata": {},
   "outputs": [
    {
     "data": {
      "text/plain": [
       "host_acceptance_rate            100.000000\n",
       "neighbourhood_group_cleansed    100.000000\n",
       "xl_picture_url                  100.000000\n",
       "medium_url                      100.000000\n",
       "thumbnail_url                   100.000000\n",
       "square_feet                      98.737047\n",
       "weekly_price                     91.207902\n",
       "monthly_price                    90.560233\n",
       "notes                            49.789508\n",
       "host_about                       37.435233\n",
       "access                           35.994171\n",
       "interaction                      31.395725\n",
       "transit                          26.748705\n",
       "house_rules                      26.489637\n",
       "neighborhood_overview            26.408679\n",
       "space                            20.709197\n",
       "license                          18.636658\n",
       "security_deposit                 14.054404\n",
       "review_scores_checkin            13.244819\n",
       "review_scores_location           13.244819\n",
       "review_scores_value              13.244819\n",
       "review_scores_communication      13.212435\n",
       "review_scores_cleanliness        13.196244\n",
       "review_scores_accuracy           13.196244\n",
       "review_scores_rating             13.196244\n",
       "reviews_per_month                12.807642\n",
       "first_review                     12.807642\n",
       "last_review                      12.807642\n",
       "host_response_time                9.115933\n",
       "host_response_rate                9.115933\n",
       "dtype: float64"
      ]
     },
     "execution_count": 30,
     "metadata": {},
     "output_type": "execute_result"
    }
   ],
   "source": [
    "#Check for NaN's and show highest frequency columns\n",
    "data = pd.isnull(Vancouver_List).sum()/len(Vancouver_List)*100\n",
    "data.sort_values(ascending=False).head(30)"
   ]
  },
  {
   "cell_type": "markdown",
   "metadata": {},
   "source": [
    "__Reviews.csv__"
   ]
  },
  {
   "cell_type": "code",
   "execution_count": 33,
   "metadata": {},
   "outputs": [
    {
     "data": {
      "text/html": [
       "<div>\n",
       "<style scoped>\n",
       "    .dataframe tbody tr th:only-of-type {\n",
       "        vertical-align: middle;\n",
       "    }\n",
       "\n",
       "    .dataframe tbody tr th {\n",
       "        vertical-align: top;\n",
       "    }\n",
       "\n",
       "    .dataframe thead th {\n",
       "        text-align: right;\n",
       "    }\n",
       "</style>\n",
       "<table border=\"1\" class=\"dataframe\">\n",
       "  <thead>\n",
       "    <tr style=\"text-align: right;\">\n",
       "      <th></th>\n",
       "      <th>listing_id</th>\n",
       "      <th>id</th>\n",
       "      <th>date</th>\n",
       "      <th>reviewer_id</th>\n",
       "      <th>reviewer_name</th>\n",
       "      <th>comments</th>\n",
       "    </tr>\n",
       "  </thead>\n",
       "  <tbody>\n",
       "    <tr>\n",
       "      <td>0</td>\n",
       "      <td>5731</td>\n",
       "      <td>1609</td>\n",
       "      <td>2009-04-19</td>\n",
       "      <td>11052</td>\n",
       "      <td>Carmen</td>\n",
       "      <td>This was just perfect for a professional visit...</td>\n",
       "    </tr>\n",
       "    <tr>\n",
       "      <td>1</td>\n",
       "      <td>5731</td>\n",
       "      <td>1919</td>\n",
       "      <td>2009-04-30</td>\n",
       "      <td>11973</td>\n",
       "      <td>Meseret</td>\n",
       "      <td>Mai Lodging is very clean and fully furnished....</td>\n",
       "    </tr>\n",
       "    <tr>\n",
       "      <td>2</td>\n",
       "      <td>5731</td>\n",
       "      <td>3963</td>\n",
       "      <td>2009-06-13</td>\n",
       "      <td>18827</td>\n",
       "      <td>Rob</td>\n",
       "      <td>Very nice place, and good location for getting...</td>\n",
       "    </tr>\n",
       "    <tr>\n",
       "      <td>3</td>\n",
       "      <td>5731</td>\n",
       "      <td>3967</td>\n",
       "      <td>2009-06-13</td>\n",
       "      <td>18888</td>\n",
       "      <td>Armin</td>\n",
       "      <td>Awesome place! Best price! It's just really ni...</td>\n",
       "    </tr>\n",
       "    <tr>\n",
       "      <td>4</td>\n",
       "      <td>5731</td>\n",
       "      <td>5186</td>\n",
       "      <td>2009-07-07</td>\n",
       "      <td>17965</td>\n",
       "      <td>Michel</td>\n",
       "      <td>Great food right in the neighbourhood (vietnam...</td>\n",
       "    </tr>\n",
       "  </tbody>\n",
       "</table>\n",
       "</div>"
      ],
      "text/plain": [
       "   listing_id    id        date  reviewer_id reviewer_name  \\\n",
       "0        5731  1609  2009-04-19        11052        Carmen   \n",
       "1        5731  1919  2009-04-30        11973       Meseret   \n",
       "2        5731  3963  2009-06-13        18827           Rob   \n",
       "3        5731  3967  2009-06-13        18888         Armin   \n",
       "4        5731  5186  2009-07-07        17965        Michel   \n",
       "\n",
       "                                            comments  \n",
       "0  This was just perfect for a professional visit...  \n",
       "1  Mai Lodging is very clean and fully furnished....  \n",
       "2  Very nice place, and good location for getting...  \n",
       "3  Awesome place! Best price! It's just really ni...  \n",
       "4  Great food right in the neighbourhood (vietnam...  "
      ]
     },
     "execution_count": 33,
     "metadata": {},
     "output_type": "execute_result"
    }
   ],
   "source": [
    "Vancouver_Rev.head()"
   ]
  },
  {
   "cell_type": "code",
   "execution_count": 34,
   "metadata": {},
   "outputs": [
    {
     "data": {
      "text/plain": [
       "5385"
      ]
     },
     "execution_count": 34,
     "metadata": {},
     "output_type": "execute_result"
    }
   ],
   "source": [
    "#Is number of ID's identical to other files\n",
    "len(Vancouver_Rev.listing_id.unique())"
   ]
  },
  {
   "cell_type": "code",
   "execution_count": 35,
   "metadata": {},
   "outputs": [
    {
     "name": "stdout",
     "output_type": "stream",
     "text": [
      "2009-04-19 00:00:00\n",
      "2019-09-16 00:00:00\n"
     ]
    }
   ],
   "source": [
    "#Data range\n",
    "print(pd.to_datetime(Vancouver_Rev.date.min()))\n",
    "print(pd.to_datetime(Vancouver_Rev.date.max()))"
   ]
  },
  {
   "cell_type": "code",
   "execution_count": 36,
   "metadata": {},
   "outputs": [
    {
     "data": {
      "text/plain": [
       "listing_id       0.000000\n",
       "id               0.000000\n",
       "date             0.000000\n",
       "reviewer_id      0.000000\n",
       "reviewer_name    0.000000\n",
       "comments         0.041078\n",
       "dtype: float64"
      ]
     },
     "execution_count": 36,
     "metadata": {},
     "output_type": "execute_result"
    }
   ],
   "source": [
    "#Check for NaN's\n",
    "pd.isnull(Vancouver_Rev).sum()/len(Vancouver_Rev)*100"
   ]
  },
  {
   "cell_type": "markdown",
   "metadata": {},
   "source": [
    "__Key Findings__\n",
    "\n",
    " - All files share a Listing ID\n",
    " - Reviews.csv is not a complete dataset for listing_ID (some Listing ID's must not have any reviews yet)\n",
    " - Calendar & Reviews files have multiple entries\n",
    " - Calendar.csv has no missing data\n",
    " - Some features in the Listing.csv file have a substaintial amount of missing data (sq ft, monthly cost, etc)\n",
    " - Reviews.csv go back much further and has little missing data"
   ]
  },
  {
   "cell_type": "code",
   "execution_count": null,
   "metadata": {},
   "outputs": [],
   "source": []
  }
 ],
 "metadata": {
  "kernelspec": {
   "display_name": "Python 3",
   "language": "python",
   "name": "python3"
  },
  "language_info": {
   "codemirror_mode": {
    "name": "ipython",
    "version": 3
   },
   "file_extension": ".py",
   "mimetype": "text/x-python",
   "name": "python",
   "nbconvert_exporter": "python",
   "pygments_lexer": "ipython3",
   "version": "3.7.3"
  }
 },
 "nbformat": 4,
 "nbformat_minor": 2
}
